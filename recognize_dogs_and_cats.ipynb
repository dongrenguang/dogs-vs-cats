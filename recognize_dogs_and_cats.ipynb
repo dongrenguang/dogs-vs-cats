{
 "cells": [
  {
   "cell_type": "markdown",
   "metadata": {},
   "source": [
    "## 特征提取"
   ]
  },
  {
   "cell_type": "code",
   "execution_count": 48,
   "metadata": {},
   "outputs": [
    {
     "name": "stdout",
     "output_type": "stream",
     "text": [
      "start\n",
      "input shape:  (?, 299, 299, 3)\n",
      "output shape:  (?, 2048)\n",
      "Found 10 images belonging to 2 classes.\n",
      "train_generator.samples: 10\n",
      "train_generator.classes: [0 0 0 0 0 1 1 1 1 1]\n",
      "bottleneck_features_train.shape: (10, 2048)\n",
      "Found 3 images belonging to 1 classes.\n",
      "test_generator.samples: 3\n",
      "test_generator.classes: [0 0 0]\n",
      "bottleneck_features_test.shape: (3, 2048)\n",
      "complete!\n",
      "0:01:21.425308\n"
     ]
    }
   ],
   "source": [
    "from keras.applications import Xception, xception\n",
    "from keras.preprocessing import image\n",
    "from keras.preprocessing.image import ImageDataGenerator\n",
    "from keras.models import Sequential, Model\n",
    "from keras.layers import Activation, Dropout, Flatten, Dense, Input, Lambda\n",
    "from keras.layers.pooling import GlobalAveragePooling2D\n",
    "import numpy as np\n",
    "import h5py\n",
    "import datetime\n",
    "\n",
    "print('start')\n",
    "starttime = datetime.datetime.now()\n",
    "\n",
    "image_size = (299, 299)\n",
    "input_shape = image_size + (3,)\n",
    "x = Input(input_shape)\n",
    "x = Lambda(xception.preprocess_input)(x)\n",
    "model = Xception(input_tensor=x, input_shape=input_shape, weights='imagenet', include_top=False, pooling='avg')\n",
    "print('input shape: ', model.input.shape)\n",
    "print('output shape: ', model.output.shape)\n",
    "\n",
    "\n",
    "batch_size = 2\n",
    "datagen = ImageDataGenerator(\n",
    "    rotation_range=40,\n",
    "    width_shift_range=0.2,\n",
    "    height_shift_range=0.2,\n",
    "    rescale=1./255,\n",
    "    shear_range=0.2,\n",
    "    zoom_range=0.2,\n",
    "    horizontal_flip=True,\n",
    "    fill_mode='nearest')\n",
    "\n",
    "train_generator = datagen.flow_from_directory(\n",
    "    'dataset-mini10/train',\n",
    "    target_size=image_size,\n",
    "    batch_size=batch_size,\n",
    "    shuffle=False,\n",
    "    save_to_dir='save', save_prefix='catpre', save_format='jpeg')\n",
    "print('train_generator.samples:', train_generator.samples)\n",
    "print('train_generator.classes:', train_generator.classes)\n",
    "bottleneck_features_train = model.predict_generator(train_generator, train_generator.samples)\n",
    "print('bottleneck_features_train.shape:', bottleneck_features_train.shape)\n",
    "\n",
    "\n",
    "test_generator = datagen.flow_from_directory(\n",
    "    'dataset-mini10/test',\n",
    "    target_size=image_size,\n",
    "    batch_size=batch_size,\n",
    "    class_mode=None,\n",
    "    shuffle=False)\n",
    "print('test_generator.samples:', test_generator.samples)\n",
    "print('test_generator.classes:', test_generator.classes)\n",
    "bottleneck_features_test = model.predict_generator(test_generator, test_generator.samples)\n",
    "print('bottleneck_features_test.shape:', bottleneck_features_test.shape)\n",
    "\n",
    "with h5py.File(\"bottleneck_features.h5\", 'w') as h:\n",
    "    h.create_dataset('train', data=bottleneck_features_train)\n",
    "    h.create_dataset('labels', data=train_generator.classes)\n",
    "    h.create_dataset('test', data=bottleneck_features_test)\n",
    "\n",
    "print('complete!')\n",
    "endtime = datetime.datetime.now()\n",
    "print (endtime - starttime)"
   ]
  },
  {
   "cell_type": "markdown",
   "metadata": {},
   "source": [
    "## 搭建模型"
   ]
  },
  {
   "cell_type": "code",
   "execution_count": 50,
   "metadata": {},
   "outputs": [
    {
     "ename": "ModuleNotFoundError",
     "evalue": "No module named 'sklearn'",
     "output_type": "error",
     "traceback": [
      "\u001b[0;31m---------------------------------------------------------------------------\u001b[0m",
      "\u001b[0;31mModuleNotFoundError\u001b[0m                       Traceback (most recent call last)",
      "\u001b[0;32m<ipython-input-50-12a904e21b98>\u001b[0m in \u001b[0;36m<module>\u001b[0;34m()\u001b[0m\n\u001b[0;32m----> 1\u001b[0;31m \u001b[0;32mfrom\u001b[0m \u001b[0msklearn\u001b[0m\u001b[0;34m.\u001b[0m\u001b[0mutils\u001b[0m \u001b[0;32mimport\u001b[0m \u001b[0mshuffle\u001b[0m\u001b[0;34m\u001b[0m\u001b[0m\n\u001b[0m\u001b[1;32m      2\u001b[0m \u001b[0;34m\u001b[0m\u001b[0m\n\u001b[1;32m      3\u001b[0m \u001b[0;32mwith\u001b[0m \u001b[0mh5py\u001b[0m\u001b[0;34m.\u001b[0m\u001b[0mFile\u001b[0m\u001b[0;34m(\u001b[0m\u001b[0;34m'bottleneck_features.h5'\u001b[0m\u001b[0;34m,\u001b[0m\u001b[0;34m'r'\u001b[0m\u001b[0;34m)\u001b[0m \u001b[0;32mas\u001b[0m \u001b[0mh\u001b[0m\u001b[0;34m:\u001b[0m\u001b[0;34m\u001b[0m\u001b[0m\n\u001b[1;32m      4\u001b[0m     \u001b[0mX_train\u001b[0m \u001b[0;34m=\u001b[0m \u001b[0mnp\u001b[0m\u001b[0;34m.\u001b[0m\u001b[0marray\u001b[0m\u001b[0;34m(\u001b[0m\u001b[0mh\u001b[0m\u001b[0;34m[\u001b[0m\u001b[0;34m'train'\u001b[0m\u001b[0;34m]\u001b[0m\u001b[0;34m)\u001b[0m\u001b[0;34m\u001b[0m\u001b[0m\n\u001b[1;32m      5\u001b[0m     \u001b[0my_train\u001b[0m \u001b[0;34m=\u001b[0m \u001b[0mnp\u001b[0m\u001b[0;34m.\u001b[0m\u001b[0marray\u001b[0m\u001b[0;34m(\u001b[0m\u001b[0mh\u001b[0m\u001b[0;34m[\u001b[0m\u001b[0;34m'labels'\u001b[0m\u001b[0;34m]\u001b[0m\u001b[0;34m)\u001b[0m\u001b[0;34m\u001b[0m\u001b[0m\n",
      "\u001b[0;31mModuleNotFoundError\u001b[0m: No module named 'sklearn'"
     ]
    }
   ],
   "source": [
    "from sklearn.utils import shuffle\n",
    "\n",
    "with h5py.File('bottleneck_features.h5','r') as h:\n",
    "    X_train = np.array(h['train'])\n",
    "    y_train = np.array(h['labels'])\n",
    "    X_test = np.array(h['test'])\n",
    "    print('type:', type(X_train))\n",
    "\n",
    "print('X_train', X_train.shape)\n",
    "print('y_train', y_train.shape)\n",
    "print('X_test', X_test.shape)\n",
    "\n",
    "X_train, y_train = shuffle(X_train, y_train)\n",
    "\n",
    "model = Sequential()\n",
    "model.add(Dropout(0.5))\n",
    "model.add(Dense(1, activation='sigmoid'))\n",
    "\n",
    "model.compile(optimizer='rmsprop',\n",
    "              loss='binary_crossentropy',\n",
    "              metrics=['accuracy'])\n",
    "\n",
    "model.fit(X_train,\n",
    "          y_train,\n",
    "          epochs=10,\n",
    "          batch_size=batch_size,\n",
    "          validation_split=0.2)\n",
    "model.save_weights('bottleneck_fc_model.h5')"
   ]
  }
 ],
 "metadata": {
  "kernelspec": {
   "display_name": "Python 3",
   "language": "python",
   "name": "python3"
  },
  "language_info": {
   "codemirror_mode": {
    "name": "ipython",
    "version": 3
   },
   "file_extension": ".py",
   "mimetype": "text/x-python",
   "name": "python",
   "nbconvert_exporter": "python",
   "pygments_lexer": "ipython3",
   "version": "3.6.5"
  }
 },
 "nbformat": 4,
 "nbformat_minor": 2
}
