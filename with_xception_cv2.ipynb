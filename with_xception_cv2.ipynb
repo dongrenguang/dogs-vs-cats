{
 "cells": [
  {
   "cell_type": "markdown",
   "metadata": {
    "collapsed": true
   },
   "source": [
    "## 数据预处理"
   ]
  },
  {
   "cell_type": "code",
   "execution_count": 1,
   "metadata": {},
   "outputs": [
    {
     "name": "stderr",
     "output_type": "stream",
     "text": [
      "Using TensorFlow backend.\n"
     ]
    }
   ],
   "source": [
    "import os\n",
    "import cv2\n",
    "import h5py\n",
    "import numpy as np\n",
    "import pandas as pd\n",
    "from keras.applications import Xception, xception\n",
    "from keras.models import Model\n",
    "from keras.layers import Dropout, Dense, Input, Lambda\n",
    "from sklearn.model_selection import train_test_split\n",
    "from tqdm import tqdm"
   ]
  },
  {
   "cell_type": "code",
   "execution_count": 40,
   "metadata": {},
   "outputs": [
    {
     "name": "stderr",
     "output_type": "stream",
     "text": [
      "100%|██████████| 25000/25000 [00:58<00:00, 429.97it/s]\n",
      " 12%|█▏        | 890/7393 [00:03<00:26, 242.66it/s]"
     ]
    },
    {
     "name": "stdout",
     "output_type": "stream",
     "text": [
      "Read extra train image failed: ../dogs-vs-cats-dataset/images-Oxford-IIIT/Abyssinian_102.mat\n"
     ]
    },
    {
     "name": "stderr",
     "output_type": "stream",
     "text": [
      " 14%|█▍        | 1044/7393 [00:04<00:26, 243.03it/s]"
     ]
    },
    {
     "name": "stdout",
     "output_type": "stream",
     "text": [
      "Read extra train image failed: ../dogs-vs-cats-dataset/images-Oxford-IIIT/Abyssinian_100.mat\n"
     ]
    },
    {
     "name": "stderr",
     "output_type": "stream",
     "text": [
      " 19%|█▉        | 1430/7393 [00:05<00:24, 244.14it/s]"
     ]
    },
    {
     "name": "stdout",
     "output_type": "stream",
     "text": [
      "Read extra train image failed: ../dogs-vs-cats-dataset/images-Oxford-IIIT/Egyptian_Mau_139.jpg\n"
     ]
    },
    {
     "name": "stderr",
     "output_type": "stream",
     "text": [
      " 37%|███▋      | 2741/7393 [00:11<00:19, 244.21it/s]"
     ]
    },
    {
     "name": "stdout",
     "output_type": "stream",
     "text": [
      "Read extra train image failed: ../dogs-vs-cats-dataset/images-Oxford-IIIT/Egyptian_Mau_145.jpg\n"
     ]
    },
    {
     "name": "stderr",
     "output_type": "stream",
     "text": [
      " 57%|█████▋    | 4234/7393 [00:17<00:12, 246.22it/s]"
     ]
    },
    {
     "name": "stdout",
     "output_type": "stream",
     "text": [
      "Read extra train image failed: ../dogs-vs-cats-dataset/images-Oxford-IIIT/Egyptian_Mau_177.jpg\n"
     ]
    },
    {
     "name": "stderr",
     "output_type": "stream",
     "text": [
      " 75%|███████▍  | 5513/7393 [00:22<00:07, 245.09it/s]"
     ]
    },
    {
     "name": "stdout",
     "output_type": "stream",
     "text": [
      "Read extra train image failed: ../dogs-vs-cats-dataset/images-Oxford-IIIT/Abyssinian_101.mat\n"
     ]
    },
    {
     "name": "stderr",
     "output_type": "stream",
     "text": [
      " 76%|███████▋  | 5641/7393 [00:23<00:07, 244.75it/s]"
     ]
    },
    {
     "name": "stdout",
     "output_type": "stream",
     "text": [
      "Read extra train image failed: ../dogs-vs-cats-dataset/images-Oxford-IIIT/Egyptian_Mau_191.jpg\n"
     ]
    },
    {
     "name": "stderr",
     "output_type": "stream",
     "text": [
      " 78%|███████▊  | 5796/7393 [00:23<00:06, 244.76it/s]"
     ]
    },
    {
     "name": "stdout",
     "output_type": "stream",
     "text": [
      "Read extra train image failed: ../dogs-vs-cats-dataset/images-Oxford-IIIT/Abyssinian_34.jpg\n"
     ]
    },
    {
     "name": "stderr",
     "output_type": "stream",
     "text": [
      " 99%|█████████▊| 7291/7393 [00:29<00:00, 244.04it/s]"
     ]
    },
    {
     "name": "stdout",
     "output_type": "stream",
     "text": [
      "Read extra train image failed: ../dogs-vs-cats-dataset/images-Oxford-IIIT/Egyptian_Mau_167.jpg\n"
     ]
    },
    {
     "name": "stderr",
     "output_type": "stream",
     "text": [
      "100%|██████████| 7393/7393 [00:30<00:00, 244.14it/s]\n",
      "100%|██████████| 12500/12500 [00:28<00:00, 445.32it/s]\n"
     ]
    },
    {
     "name": "stdout",
     "output_type": "stream",
     "text": [
      "Training data size: 32384\n",
      "Label size: 32384\n",
      "Testing data size: 12500\n"
     ]
    }
   ],
   "source": [
    "data_path_train = '../dogs-vs-cats-dataset/train'\n",
    "data_path_train_extra = '../dogs-vs-cats-dataset/images-Oxford-IIIT'\n",
    "data_path_test = '../dogs-vs-cats-dataset/test'\n",
    "image_names_train = os.listdir(data_path_train)\n",
    "image_names_train_extra = os.listdir(data_path_train_extra)\n",
    "image_names_test = os.listdir(data_path_test)\n",
    "input_shape = (299, 299, 3)\n",
    "labels = []\n",
    "trains = []\n",
    "tests = []\n",
    "\n",
    "\n",
    "# 处理标准的训练数据\n",
    "for i in tqdm(range(len(image_names_train))):\n",
    "    image_name = image_names_train[i]\n",
    "    image_path = os.path.join(data_path_train, image_name)\n",
    "    image = cv2.imread(image_path)\n",
    "    if image is None:\n",
    "        print('Read train image failed:', image_path)\n",
    "        continue\n",
    "    image = cv2.resize(image, (input_shape[0], input_shape[1]))\n",
    "    trains.append(image[:, :, ::-1])\n",
    "    # cat: 0, dog: 1\n",
    "    category = 1 if 'dog' in image_name else 0\n",
    "    labels.append(category)\n",
    "\n",
    "    \n",
    "# 猫的种类\n",
    "cat_types = ['Abyssinian', 'Bengal', 'Birman', 'Bombay', 'British_Shorthair', 'Egyptian_Mau', 'Maine_Coon', 'Persian',\n",
    "             'Ragdoll', 'Russian_Blue', 'Siamese', 'Sphynx']\n",
    "# 处理扩展的训练数据\n",
    "for i in tqdm(range(len(image_names_train_extra))):\n",
    "    image_name = image_names_train_extra[i]\n",
    "    image_path = os.path.join(data_path_train_extra, image_name)\n",
    "    image = cv2.imread(image_path)\n",
    "    if image is None:\n",
    "        print('Read extra train image failed:', image_path)\n",
    "        continue\n",
    "    image = cv2.resize(image, (input_shape[0], input_shape[1]))\n",
    "    index = len(image_names_train) + i\n",
    "    trains.append(image[:, :, ::-1])\n",
    "    \n",
    "    # 获取动物的种类（dog or cat）\n",
    "    spt = image_names_train_extra[i].split('_')\n",
    "    spt.pop()\n",
    "    tp = '_'.join(spt)\n",
    "    category = 0 if tp in cat_types else 1\n",
    "    labels.append(category)\n",
    "    \n",
    "\n",
    "# 处理标准的测试数据\n",
    "for i in tqdm(range(len(image_names_test))):\n",
    "    image_name = image_names_test[i]\n",
    "    image_path = os.path.join(data_path_test, image_name)\n",
    "    image = cv2.imread(image_path)\n",
    "    if image is None:\n",
    "        print('Read test image failed:', image_path)\n",
    "        continue\n",
    "    image = cv2.resize(image, (input_shape[0], input_shape[1]))\n",
    "    tests.append(image[:, :, ::-1])\n",
    "    \n",
    "    \n",
    "trains = np.array(trains)\n",
    "labels = np.array(labels)\n",
    "tests = np.array(tests)\n",
    "\n",
    "print('Training data size: %d' % len(trains))\n",
    "print('Label size: %d' % len(labels))\n",
    "print('Testing data size: %d' % len(tests))"
   ]
  },
  {
   "cell_type": "markdown",
   "metadata": {},
   "source": [
    "## 特征提取"
   ]
  },
  {
   "cell_type": "code",
   "execution_count": 41,
   "metadata": {},
   "outputs": [
    {
     "name": "stdout",
     "output_type": "stream",
     "text": [
      "bottleneck features have been wrote to bottleneck_features_with_extra_data.h5\n"
     ]
    }
   ],
   "source": [
    "x = Input(shape=input_shape)\n",
    "x = Lambda(xception.preprocess_input)(x)\n",
    "model = Xception(input_tensor=x, input_shape=input_shape, weights='imagenet', include_top=False, pooling='avg')\n",
    "bottleneck_features_train = model.predict(trains, batch_size=128)\n",
    "bottleneck_features_test = model.predict(tests, batch_size=128)\n",
    "\n",
    "with h5py.File(\"bottleneck_features_with_extra_data.h5\", 'w') as h:\n",
    "    h.create_dataset('trains', data=bottleneck_features_train)\n",
    "    h.create_dataset('labels', data=labels)\n",
    "    h.create_dataset('tests', data=bottleneck_features_test)\n",
    "\n",
    "print('bottleneck features have been wrote to bottleneck_features_with_extra_data.h5')"
   ]
  },
  {
   "cell_type": "markdown",
   "metadata": {},
   "source": [
    "## 构建模型"
   ]
  },
  {
   "cell_type": "code",
   "execution_count": 2,
   "metadata": {},
   "outputs": [
    {
     "name": "stdout",
     "output_type": "stream",
     "text": [
      "Model ready!\n"
     ]
    }
   ],
   "source": [
    "with h5py.File('bottleneck_features_with_extra_data.h5','r') as h:\n",
    "    X_train = np.array(h['trains'])\n",
    "    y_train = np.array(h['labels'])\n",
    "    X_test = np.array(h['tests'])\n",
    "\n",
    "X_train, X_val, y_train, y_val = train_test_split(X_train, y_train, shuffle=True, test_size=0.2, random_state=2018)\n",
    "\n",
    "x = Input(shape=(X_train.shape[1],))\n",
    "y = Dropout(0.2)(x)\n",
    "y = Dense(1, activation='sigmoid')(y)\n",
    "model = Model(x, y)\n",
    "\n",
    "model.compile(optimizer='adadelta', loss='binary_crossentropy', metrics=['accuracy'])\n",
    "\n",
    "print('Model ready!')"
   ]
  },
  {
   "cell_type": "markdown",
   "metadata": {},
   "source": [
    "## 训练"
   ]
  },
  {
   "cell_type": "code",
   "execution_count": 57,
   "metadata": {},
   "outputs": [
    {
     "name": "stdout",
     "output_type": "stream",
     "text": [
      "Train on 25907 samples, validate on 6477 samples\n",
      "Epoch 1/10\n",
      "25907/25907 [==============================] - 2s 86us/step - loss: 0.1128 - acc: 0.9850 - val_loss: 0.0373 - val_acc: 0.9926\n",
      "Epoch 2/10\n",
      "25907/25907 [==============================] - 1s 29us/step - loss: 0.0278 - acc: 0.9936 - val_loss: 0.0246 - val_acc: 0.9940\n",
      "Epoch 3/10\n",
      "25907/25907 [==============================] - 1s 29us/step - loss: 0.0195 - acc: 0.9948 - val_loss: 0.0221 - val_acc: 0.9940\n",
      "Epoch 4/10\n",
      "25907/25907 [==============================] - 1s 29us/step - loss: 0.0169 - acc: 0.9951 - val_loss: 0.0210 - val_acc: 0.9943\n",
      "Epoch 5/10\n",
      "25907/25907 [==============================] - 1s 29us/step - loss: 0.0158 - acc: 0.9950 - val_loss: 0.0206 - val_acc: 0.9949\n",
      "Epoch 6/10\n",
      "25907/25907 [==============================] - 1s 30us/step - loss: 0.0145 - acc: 0.9959 - val_loss: 0.0203 - val_acc: 0.9946\n",
      "Epoch 7/10\n",
      "25907/25907 [==============================] - 1s 29us/step - loss: 0.0136 - acc: 0.9958 - val_loss: 0.0201 - val_acc: 0.9948\n",
      "Epoch 8/10\n",
      "25907/25907 [==============================] - 1s 29us/step - loss: 0.0132 - acc: 0.9959 - val_loss: 0.0202 - val_acc: 0.9943\n",
      "Epoch 9/10\n",
      "25907/25907 [==============================] - 1s 29us/step - loss: 0.0127 - acc: 0.9960 - val_loss: 0.0197 - val_acc: 0.9949\n",
      "Epoch 10/10\n",
      "25907/25907 [==============================] - 1s 29us/step - loss: 0.0125 - acc: 0.9959 - val_loss: 0.0197 - val_acc: 0.9946\n"
     ]
    },
    {
     "data": {
      "text/plain": [
       "<keras.callbacks.History at 0x7f2fdaf4a550>"
      ]
     },
     "execution_count": 57,
     "metadata": {},
     "output_type": "execute_result"
    }
   ],
   "source": [
    "\n",
    "model.fit(x=X_train, y=y_train, batch_size=128, epochs=10, validation_data=(X_val, y_val))\n"
   ]
  },
  {
   "cell_type": "markdown",
   "metadata": {},
   "source": [
    "## 预测"
   ]
  },
  {
   "cell_type": "code",
   "execution_count": 58,
   "metadata": {},
   "outputs": [
    {
     "name": "stdout",
     "output_type": "stream",
     "text": [
      "12500/12500 [==============================] - 1s 82us/step\n",
      "The prediction result has been wrote to predict.csv\n"
     ]
    }
   ],
   "source": [
    "y_pred = model.predict(X_test, verbose=1)\n",
    "y_pred = y_pred.clip(min=0.005, max=0.995)\n",
    "\n",
    "df = pd.read_csv(\"sample_submission.csv\")\n",
    "\n",
    "for i in range(len(image_names_test)):\n",
    "    image_name = image_names_test[i]\n",
    "    index = int(str.split(image_name, '.')[0]) - 1\n",
    "    df.iat[index, 1] = y_pred[i]\n",
    "\n",
    "df.to_csv('predict.csv', index=None)\n",
    "print('The prediction result has been wrote to predict.csv')"
   ]
  }
 ],
 "metadata": {
  "kernelspec": {
   "display_name": "Python 3",
   "language": "python",
   "name": "python3"
  },
  "language_info": {
   "codemirror_mode": {
    "name": "ipython",
    "version": 3
   },
   "file_extension": ".py",
   "mimetype": "text/x-python",
   "name": "python",
   "nbconvert_exporter": "python",
   "pygments_lexer": "ipython3",
   "version": "3.6.5"
  }
 },
 "nbformat": 4,
 "nbformat_minor": 2
}
