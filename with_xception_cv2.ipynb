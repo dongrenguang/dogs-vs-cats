{
 "cells": [
  {
   "cell_type": "markdown",
   "metadata": {
    "collapsed": true
   },
   "source": [
    "## 数据预处理"
   ]
  },
  {
   "cell_type": "code",
   "execution_count": 1,
   "metadata": {},
   "outputs": [
    {
     "name": "stderr",
     "output_type": "stream",
     "text": [
      "Using TensorFlow backend.\n"
     ]
    },
    {
     "name": "stdout",
     "output_type": "stream",
     "text": [
      "Done!\n"
     ]
    }
   ],
   "source": [
    "import os\n",
    "import cv2\n",
    "import h5py\n",
    "import numpy as np\n",
    "import pandas as pd\n",
    "from keras.applications import Xception, xception\n",
    "from keras.models import Model\n",
    "from keras.layers import Dropout, Dense, Input, Lambda\n",
    "from keras.callbacks import Callback\n",
    "from sklearn.model_selection import train_test_split\n",
    "from tqdm import tqdm\n",
    "\n",
    "data_path_train = '../dogs-vs-cats-dataset/train'\n",
    "data_path_test = '../dogs-vs-cats-dataset/test'\n",
    "image_names_train = os.listdir(data_path_train)\n",
    "image_names_test = os.listdir(data_path_test)\n",
    "input_shape = (299, 299, 3)\n",
    "\n",
    "print('Done!')"
   ]
  },
  {
   "cell_type": "code",
   "execution_count": 2,
   "metadata": {},
   "outputs": [
    {
     "name": "stderr",
     "output_type": "stream",
     "text": [
      "100%|██████████| 25000/25000 [01:03<00:00, 394.40it/s]\n",
      "100%|██████████| 12500/12500 [00:28<00:00, 443.18it/s]\n"
     ]
    },
    {
     "name": "stdout",
     "output_type": "stream",
     "text": [
      "Training data size: 25000\n",
      "Label size: 25000\n",
      "Testing data size: 12500\n"
     ]
    }
   ],
   "source": [
    "labels = []\n",
    "trains = []\n",
    "tests = []\n",
    "\n",
    "# 处理标准的训练数据\n",
    "for i in tqdm(range(len(image_names_train))):\n",
    "    image_name = image_names_train[i]\n",
    "    image_path = os.path.join(data_path_train, image_name)\n",
    "    image = cv2.imread(image_path)\n",
    "    if image is None:\n",
    "        print('Read train image failed:', image_path)\n",
    "        continue\n",
    "    image = cv2.resize(image, (input_shape[0], input_shape[1]))\n",
    "    trains.append(image[:, :, ::-1])\n",
    "    # cat: 0, dog: 1\n",
    "    category = 1 if 'dog' in image_name else 0\n",
    "    labels.append(category)\n",
    "\n",
    "\n",
    "# 处理标准的测试数据\n",
    "for i in tqdm(range(len(image_names_test))):\n",
    "    image_name = image_names_test[i]\n",
    "    image_path = os.path.join(data_path_test, image_name)\n",
    "    image = cv2.imread(image_path)\n",
    "    if image is None:\n",
    "        print('Read test image failed:', image_path)\n",
    "        continue\n",
    "    image = cv2.resize(image, (input_shape[0], input_shape[1]))\n",
    "    tests.append(image[:, :, ::-1])\n",
    "    \n",
    "    \n",
    "trains = np.array(trains)\n",
    "labels = np.array(labels)\n",
    "tests = np.array(tests)\n",
    "\n",
    "print('Training data size: %d' % len(trains))\n",
    "print('Label size: %d' % len(labels))\n",
    "print('Testing data size: %d' % len(tests))"
   ]
  },
  {
   "cell_type": "markdown",
   "metadata": {},
   "source": [
    "## 特征提取"
   ]
  },
  {
   "cell_type": "code",
   "execution_count": 3,
   "metadata": {},
   "outputs": [
    {
     "name": "stdout",
     "output_type": "stream",
     "text": [
      "bottleneck features have been wrote to bottleneck_features.h5\n"
     ]
    }
   ],
   "source": [
    "x = Input(shape=input_shape)\n",
    "x = Lambda(xception.preprocess_input)(x)\n",
    "model = Xception(input_tensor=x, input_shape=input_shape, weights='imagenet', include_top=False, pooling='avg')\n",
    "bottleneck_features_train = model.predict(trains, batch_size=128)\n",
    "bottleneck_features_test = model.predict(tests, batch_size=128)\n",
    "\n",
    "with h5py.File(\"bottleneck_features.h5\", 'w') as h:\n",
    "    h.create_dataset('trains', data=bottleneck_features_train)\n",
    "    h.create_dataset('labels', data=labels)\n",
    "    h.create_dataset('tests', data=bottleneck_features_test)\n",
    "\n",
    "print('bottleneck features have been wrote to bottleneck_features.h5')"
   ]
  },
  {
   "cell_type": "markdown",
   "metadata": {},
   "source": [
    "## 构建模型"
   ]
  },
  {
   "cell_type": "code",
   "execution_count": 2,
   "metadata": {},
   "outputs": [
    {
     "name": "stdout",
     "output_type": "stream",
     "text": [
      "Model ready!\n"
     ]
    }
   ],
   "source": [
    "with h5py.File('bottleneck_features.h5','r') as h:\n",
    "    X_train = np.array(h['trains'])\n",
    "    y_train = np.array(h['labels'])\n",
    "    X_test = np.array(h['tests'])\n",
    "\n",
    "X_train, X_val, y_train, y_val = train_test_split(X_train, y_train, shuffle=True, test_size=0.2, random_state=2018)\n",
    "\n",
    "def getModel(drop_rate=0.5):  \n",
    "    x = Input(shape=(X_train.shape[1],))\n",
    "    y = Dropout(0.2)(x)\n",
    "    y = Dense(1, activation='sigmoid')(y)\n",
    "    mod = Model(x, y)\n",
    "    mod.compile(optimizer='adadelta', loss='binary_crossentropy', metrics=['accuracy'])\n",
    "    return mod\n",
    "\n",
    "print('Model ready!')"
   ]
  },
  {
   "cell_type": "markdown",
   "metadata": {},
   "source": [
    "## 训练与优化"
   ]
  },
  {
   "cell_type": "markdown",
   "metadata": {},
   "source": [
    "### 预测函数"
   ]
  },
  {
   "cell_type": "code",
   "execution_count": 3,
   "metadata": {},
   "outputs": [],
   "source": [
    "# 在测试数据集上预测结果，且保存在.csv文件中\n",
    "def predict_func(mod, file_name):\n",
    "    y_pred = mod.predict(X_test, verbose=1)\n",
    "    y_pred = y_pred.clip(min=0.005, max=0.995)\n",
    "\n",
    "    df = pd.read_csv(\"sample_submission.csv\")\n",
    "\n",
    "    for i in range(len(image_names_test)):\n",
    "        image_name = image_names_test[i]\n",
    "        index = int(str.split(image_name, '.')[0]) - 1\n",
    "        df.iat[index, 1] = y_pred[i]\n",
    "\n",
    "    df.to_csv(os.path.join('./predict-csv', file_name), index=None)\n",
    "    print('The prediction result has been wrote to: ', file_name)"
   ]
  },
  {
   "cell_type": "markdown",
   "metadata": {},
   "source": [
    "### 回调函数"
   ]
  },
  {
   "cell_type": "code",
   "execution_count": 4,
   "metadata": {},
   "outputs": [],
   "source": [
    "# 用于优化Epochs参数的回调函数\n",
    "class EpochsLossCallback(Callback):\n",
    "    def on_epoch_end(self, epoch, logs={}):\n",
    "        predict_func(self.model, 'predict' + '_epoch' + str(epoch + 1) + '.csv')"
   ]
  },
  {
   "cell_type": "markdown",
   "metadata": {},
   "source": [
    "### 模型优化之——Epochs"
   ]
  },
  {
   "cell_type": "code",
   "execution_count": 8,
   "metadata": {
    "scrolled": true
   },
   "outputs": [
    {
     "name": "stdout",
     "output_type": "stream",
     "text": [
      "Train on 20000 samples, validate on 5000 samples\n",
      "Epoch 1/20\n",
      "20000/20000 [==============================] - 1s 51us/step - loss: 0.1359 - acc: 0.9799 - val_loss: 0.0485 - val_acc: 0.9892\n",
      "12500/12500 [==============================] - 0s 39us/step\n",
      "The prediction result has been wrote to:  predict_epoch1.csv\n",
      "Epoch 2/20\n",
      "20000/20000 [==============================] - 1s 27us/step - loss: 0.0331 - acc: 0.9930 - val_loss: 0.0302 - val_acc: 0.9910\n",
      "12500/12500 [==============================] - 0s 27us/step\n",
      "The prediction result has been wrote to:  predict_epoch2.csv\n",
      "Epoch 3/20\n",
      "20000/20000 [==============================] - 1s 27us/step - loss: 0.0228 - acc: 0.9940 - val_loss: 0.0267 - val_acc: 0.9920\n",
      "12500/12500 [==============================] - 0s 27us/step\n",
      "The prediction result has been wrote to:  predict_epoch3.csv\n",
      "Epoch 4/20\n",
      "20000/20000 [==============================] - 1s 26us/step - loss: 0.0199 - acc: 0.9943 - val_loss: 0.0251 - val_acc: 0.9916\n",
      "12500/12500 [==============================] - 0s 27us/step\n",
      "The prediction result has been wrote to:  predict_epoch4.csv\n",
      "Epoch 5/20\n",
      "20000/20000 [==============================] - 1s 27us/step - loss: 0.0181 - acc: 0.9946 - val_loss: 0.0243 - val_acc: 0.9922\n",
      "12500/12500 [==============================] - 0s 27us/step\n",
      "The prediction result has been wrote to:  predict_epoch5.csv\n",
      "Epoch 6/20\n",
      "20000/20000 [==============================] - 1s 26us/step - loss: 0.0165 - acc: 0.9947 - val_loss: 0.0242 - val_acc: 0.9924\n",
      "12500/12500 [==============================] - 0s 27us/step\n",
      "The prediction result has been wrote to:  predict_epoch6.csv\n",
      "Epoch 7/20\n",
      "20000/20000 [==============================] - 1s 27us/step - loss: 0.0161 - acc: 0.9948 - val_loss: 0.0242 - val_acc: 0.9930\n",
      "12500/12500 [==============================] - 0s 26us/step\n",
      "The prediction result has been wrote to:  predict_epoch7.csv\n",
      "Epoch 8/20\n",
      "20000/20000 [==============================] - 1s 26us/step - loss: 0.0155 - acc: 0.9954 - val_loss: 0.0234 - val_acc: 0.9928\n",
      "12500/12500 [==============================] - 0s 27us/step\n",
      "The prediction result has been wrote to:  predict_epoch8.csv\n",
      "Epoch 9/20\n",
      "20000/20000 [==============================] - 1s 26us/step - loss: 0.0147 - acc: 0.9954 - val_loss: 0.0232 - val_acc: 0.9926\n",
      "12500/12500 [==============================] - 0s 27us/step\n",
      "The prediction result has been wrote to:  predict_epoch9.csv\n",
      "Epoch 10/20\n",
      "20000/20000 [==============================] - 1s 27us/step - loss: 0.0147 - acc: 0.9955 - val_loss: 0.0232 - val_acc: 0.9928\n",
      "12500/12500 [==============================] - 0s 27us/step\n",
      "The prediction result has been wrote to:  predict_epoch10.csv\n",
      "Epoch 11/20\n",
      "20000/20000 [==============================] - 1s 27us/step - loss: 0.0138 - acc: 0.9956 - val_loss: 0.0230 - val_acc: 0.9930\n",
      "12500/12500 [==============================] - 0s 27us/step\n",
      "The prediction result has been wrote to:  predict_epoch11.csv\n",
      "Epoch 12/20\n",
      "20000/20000 [==============================] - 1s 27us/step - loss: 0.0133 - acc: 0.9960 - val_loss: 0.0230 - val_acc: 0.9924\n",
      "12500/12500 [==============================] - 0s 26us/step\n",
      "The prediction result has been wrote to:  predict_epoch12.csv\n",
      "Epoch 13/20\n",
      "20000/20000 [==============================] - 1s 27us/step - loss: 0.0130 - acc: 0.9961 - val_loss: 0.0231 - val_acc: 0.9924\n",
      "12500/12500 [==============================] - 0s 26us/step\n",
      "The prediction result has been wrote to:  predict_epoch13.csv\n",
      "Epoch 14/20\n",
      "20000/20000 [==============================] - 1s 27us/step - loss: 0.0130 - acc: 0.9959 - val_loss: 0.0229 - val_acc: 0.9930\n",
      "12500/12500 [==============================] - 0s 27us/step\n",
      "The prediction result has been wrote to:  predict_epoch14.csv\n",
      "Epoch 15/20\n",
      "20000/20000 [==============================] - 1s 27us/step - loss: 0.0125 - acc: 0.9962 - val_loss: 0.0235 - val_acc: 0.9924\n",
      "12500/12500 [==============================] - 0s 27us/step\n",
      "The prediction result has been wrote to:  predict_epoch15.csv\n",
      "Epoch 16/20\n",
      "20000/20000 [==============================] - 1s 26us/step - loss: 0.0121 - acc: 0.9960 - val_loss: 0.0227 - val_acc: 0.9932\n",
      "12500/12500 [==============================] - 0s 27us/step\n",
      "The prediction result has been wrote to:  predict_epoch16.csv\n",
      "Epoch 17/20\n",
      "20000/20000 [==============================] - 1s 27us/step - loss: 0.0122 - acc: 0.9962 - val_loss: 0.0227 - val_acc: 0.9932\n",
      "12500/12500 [==============================] - 0s 26us/step\n",
      "The prediction result has been wrote to:  predict_epoch17.csv\n",
      "Epoch 18/20\n",
      "20000/20000 [==============================] - 1s 27us/step - loss: 0.0120 - acc: 0.9959 - val_loss: 0.0243 - val_acc: 0.9916\n",
      "12500/12500 [==============================] - 0s 27us/step\n",
      "The prediction result has been wrote to:  predict_epoch18.csv\n",
      "Epoch 19/20\n",
      "20000/20000 [==============================] - 1s 27us/step - loss: 0.0117 - acc: 0.9963 - val_loss: 0.0228 - val_acc: 0.9932\n",
      "12500/12500 [==============================] - 0s 27us/step\n",
      "The prediction result has been wrote to:  predict_epoch19.csv\n",
      "Epoch 20/20\n",
      "20000/20000 [==============================] - 1s 27us/step - loss: 0.0112 - acc: 0.9965 - val_loss: 0.0230 - val_acc: 0.9924\n",
      "12500/12500 [==============================] - 0s 27us/step\n",
      "The prediction result has been wrote to:  predict_epoch20.csv\n"
     ]
    },
    {
     "data": {
      "text/plain": [
       "<keras.callbacks.History at 0x7f3f9ee2a470>"
      ]
     },
     "execution_count": 8,
     "metadata": {},
     "output_type": "execute_result"
    }
   ],
   "source": [
    "model = getModel(drop_rate=0.2)\n",
    "model.fit(\n",
    "    x=X_train,\n",
    "    y=y_train,\n",
    "    batch_size=128,\n",
    "    epochs=20,\n",
    "    validation_data=(X_val, y_val),\n",
    "    callbacks=[EpochsLossCallback()]\n",
    ")"
   ]
  },
  {
   "cell_type": "markdown",
   "metadata": {},
   "source": [
    "结论：Epochs选9为最佳"
   ]
  },
  {
   "cell_type": "markdown",
   "metadata": {},
   "source": [
    "### 模型优化之——drop rate"
   ]
  },
  {
   "cell_type": "code",
   "execution_count": 5,
   "metadata": {
    "scrolled": true
   },
   "outputs": [
    {
     "name": "stdout",
     "output_type": "stream",
     "text": [
      "Train on 20000 samples, validate on 5000 samples\n",
      "Epoch 1/9\n",
      "20000/20000 [==============================] - 1s 73us/step - loss: 0.1452 - acc: 0.9744 - val_loss: 0.0485 - val_acc: 0.9910\n",
      "Epoch 2/9\n",
      "20000/20000 [==============================] - 1s 25us/step - loss: 0.0338 - acc: 0.9928 - val_loss: 0.0299 - val_acc: 0.9916\n",
      "Epoch 3/9\n",
      "20000/20000 [==============================] - 1s 25us/step - loss: 0.0231 - acc: 0.9939 - val_loss: 0.0260 - val_acc: 0.9924\n",
      "Epoch 4/9\n",
      "20000/20000 [==============================] - 1s 26us/step - loss: 0.0193 - acc: 0.9944 - val_loss: 0.0249 - val_acc: 0.9922\n",
      "Epoch 5/9\n",
      "20000/20000 [==============================] - 1s 26us/step - loss: 0.0173 - acc: 0.9949 - val_loss: 0.0242 - val_acc: 0.9922\n",
      "Epoch 6/9\n",
      "20000/20000 [==============================] - 1s 25us/step - loss: 0.0163 - acc: 0.9950 - val_loss: 0.0238 - val_acc: 0.9926\n",
      "Epoch 7/9\n",
      "20000/20000 [==============================] - 1s 25us/step - loss: 0.0159 - acc: 0.9950 - val_loss: 0.0247 - val_acc: 0.9930\n",
      "Epoch 8/9\n",
      "20000/20000 [==============================] - 1s 26us/step - loss: 0.0151 - acc: 0.9953 - val_loss: 0.0235 - val_acc: 0.9922\n",
      "Epoch 9/9\n",
      "20000/20000 [==============================] - 1s 26us/step - loss: 0.0147 - acc: 0.9956 - val_loss: 0.0238 - val_acc: 0.9920\n",
      "12500/12500 [==============================] - 0s 22us/step\n",
      "The prediction result has been wrote to:  predict_drop_rate_0.0.csv\n",
      "Train on 20000 samples, validate on 5000 samples\n",
      "Epoch 1/9\n",
      "20000/20000 [==============================] - 1s 35us/step - loss: 0.1319 - acc: 0.9821 - val_loss: 0.0470 - val_acc: 0.9912\n",
      "Epoch 2/9\n",
      "20000/20000 [==============================] - 1s 26us/step - loss: 0.0332 - acc: 0.9928 - val_loss: 0.0294 - val_acc: 0.9920\n",
      "Epoch 3/9\n",
      "20000/20000 [==============================] - 1s 26us/step - loss: 0.0231 - acc: 0.9937 - val_loss: 0.0258 - val_acc: 0.9924\n",
      "Epoch 4/9\n",
      "20000/20000 [==============================] - 1s 26us/step - loss: 0.0191 - acc: 0.9942 - val_loss: 0.0248 - val_acc: 0.9920\n",
      "Epoch 5/9\n",
      "20000/20000 [==============================] - 1s 25us/step - loss: 0.0179 - acc: 0.9946 - val_loss: 0.0238 - val_acc: 0.9922\n",
      "Epoch 6/9\n",
      "20000/20000 [==============================] - 1s 26us/step - loss: 0.0164 - acc: 0.9950 - val_loss: 0.0235 - val_acc: 0.9924\n",
      "Epoch 7/9\n",
      "20000/20000 [==============================] - 1s 26us/step - loss: 0.0158 - acc: 0.9950 - val_loss: 0.0232 - val_acc: 0.9926\n",
      "Epoch 8/9\n",
      "20000/20000 [==============================] - 1s 26us/step - loss: 0.0150 - acc: 0.9954 - val_loss: 0.0230 - val_acc: 0.9924\n",
      "Epoch 9/9\n",
      "20000/20000 [==============================] - 1s 26us/step - loss: 0.0146 - acc: 0.9956 - val_loss: 0.0228 - val_acc: 0.9930\n",
      "12500/12500 [==============================] - 0s 23us/step\n",
      "The prediction result has been wrote to:  predict_drop_rate_0.1.csv\n",
      "Train on 20000 samples, validate on 5000 samples\n",
      "Epoch 1/9\n",
      "20000/20000 [==============================] - 1s 36us/step - loss: 0.1329 - acc: 0.9813 - val_loss: 0.0464 - val_acc: 0.9910\n",
      "Epoch 2/9\n",
      "20000/20000 [==============================] - 1s 25us/step - loss: 0.0324 - acc: 0.9932 - val_loss: 0.0303 - val_acc: 0.9920\n",
      "Epoch 3/9\n",
      "20000/20000 [==============================] - 1s 25us/step - loss: 0.0225 - acc: 0.9937 - val_loss: 0.0259 - val_acc: 0.9924\n",
      "Epoch 4/9\n",
      "20000/20000 [==============================] - 1s 25us/step - loss: 0.0197 - acc: 0.9944 - val_loss: 0.0247 - val_acc: 0.9922\n",
      "Epoch 5/9\n",
      "20000/20000 [==============================] - 1s 25us/step - loss: 0.0177 - acc: 0.9949 - val_loss: 0.0243 - val_acc: 0.9918\n",
      "Epoch 6/9\n",
      "20000/20000 [==============================] - 1s 25us/step - loss: 0.0162 - acc: 0.9950 - val_loss: 0.0237 - val_acc: 0.9926\n",
      "Epoch 7/9\n",
      "20000/20000 [==============================] - 1s 25us/step - loss: 0.0158 - acc: 0.9950 - val_loss: 0.0235 - val_acc: 0.9922\n",
      "Epoch 8/9\n",
      "20000/20000 [==============================] - 1s 25us/step - loss: 0.0154 - acc: 0.9950 - val_loss: 0.0238 - val_acc: 0.9928\n",
      "Epoch 9/9\n",
      "20000/20000 [==============================] - 1s 25us/step - loss: 0.0145 - acc: 0.9955 - val_loss: 0.0233 - val_acc: 0.9920\n",
      "12500/12500 [==============================] - 0s 24us/step\n",
      "The prediction result has been wrote to:  predict_drop_rate_0.2.csv\n",
      "Train on 20000 samples, validate on 5000 samples\n",
      "Epoch 1/9\n",
      "20000/20000 [==============================] - 1s 40us/step - loss: 0.1340 - acc: 0.9806 - val_loss: 0.0470 - val_acc: 0.9908\n",
      "Epoch 2/9\n",
      "20000/20000 [==============================] - 1s 25us/step - loss: 0.0328 - acc: 0.9933 - val_loss: 0.0294 - val_acc: 0.9916\n",
      "Epoch 3/9\n",
      "20000/20000 [==============================] - 1s 25us/step - loss: 0.0227 - acc: 0.9940 - val_loss: 0.0257 - val_acc: 0.9924\n",
      "Epoch 4/9\n",
      "20000/20000 [==============================] - 1s 25us/step - loss: 0.0192 - acc: 0.9946 - val_loss: 0.0244 - val_acc: 0.9924\n",
      "Epoch 5/9\n",
      "20000/20000 [==============================] - 1s 25us/step - loss: 0.0177 - acc: 0.9947 - val_loss: 0.0239 - val_acc: 0.9924\n",
      "Epoch 6/9\n",
      "20000/20000 [==============================] - 1s 25us/step - loss: 0.0167 - acc: 0.9950 - val_loss: 0.0236 - val_acc: 0.9922\n",
      "Epoch 7/9\n",
      "20000/20000 [==============================] - 1s 25us/step - loss: 0.0159 - acc: 0.9953 - val_loss: 0.0236 - val_acc: 0.9920\n",
      "Epoch 8/9\n",
      "20000/20000 [==============================] - 1s 25us/step - loss: 0.0151 - acc: 0.9950 - val_loss: 0.0230 - val_acc: 0.9928\n",
      "Epoch 9/9\n",
      "20000/20000 [==============================] - 1s 25us/step - loss: 0.0147 - acc: 0.9953 - val_loss: 0.0228 - val_acc: 0.9928\n",
      "12500/12500 [==============================] - 0s 25us/step\n",
      "The prediction result has been wrote to:  predict_drop_rate_0.3.csv\n",
      "Train on 20000 samples, validate on 5000 samples\n",
      "Epoch 1/9\n",
      "20000/20000 [==============================] - 1s 37us/step - loss: 0.1362 - acc: 0.9788 - val_loss: 0.0467 - val_acc: 0.9912\n",
      "Epoch 2/9\n",
      "20000/20000 [==============================] - 0s 25us/step - loss: 0.0329 - acc: 0.9927 - val_loss: 0.0293 - val_acc: 0.9920\n",
      "Epoch 3/9\n",
      "20000/20000 [==============================] - 0s 25us/step - loss: 0.0228 - acc: 0.9936 - val_loss: 0.0258 - val_acc: 0.9924\n",
      "Epoch 4/9\n",
      "20000/20000 [==============================] - 0s 25us/step - loss: 0.0194 - acc: 0.9946 - val_loss: 0.0245 - val_acc: 0.9922\n",
      "Epoch 5/9\n",
      "20000/20000 [==============================] - 0s 25us/step - loss: 0.0179 - acc: 0.9945 - val_loss: 0.0239 - val_acc: 0.9924\n",
      "Epoch 6/9\n",
      "20000/20000 [==============================] - 0s 25us/step - loss: 0.0167 - acc: 0.9948 - val_loss: 0.0242 - val_acc: 0.9928\n",
      "Epoch 7/9\n",
      "20000/20000 [==============================] - 0s 25us/step - loss: 0.0158 - acc: 0.9950 - val_loss: 0.0233 - val_acc: 0.9922\n",
      "Epoch 8/9\n",
      "20000/20000 [==============================] - 0s 25us/step - loss: 0.0150 - acc: 0.9957 - val_loss: 0.0232 - val_acc: 0.9924\n",
      "Epoch 9/9\n",
      "20000/20000 [==============================] - 0s 25us/step - loss: 0.0146 - acc: 0.9955 - val_loss: 0.0231 - val_acc: 0.9922\n",
      "12500/12500 [==============================] - 0s 25us/step\n",
      "The prediction result has been wrote to:  predict_drop_rate_0.4.csv\n",
      "Train on 20000 samples, validate on 5000 samples\n",
      "Epoch 1/9\n",
      "20000/20000 [==============================] - 1s 38us/step - loss: 0.1444 - acc: 0.9782 - val_loss: 0.0479 - val_acc: 0.9904\n",
      "Epoch 2/9\n",
      "20000/20000 [==============================] - 1s 25us/step - loss: 0.0340 - acc: 0.9928 - val_loss: 0.0294 - val_acc: 0.9916\n",
      "Epoch 3/9\n",
      "20000/20000 [==============================] - 1s 25us/step - loss: 0.0235 - acc: 0.9939 - val_loss: 0.0259 - val_acc: 0.9920\n",
      "Epoch 4/9\n",
      "20000/20000 [==============================] - 1s 25us/step - loss: 0.0198 - acc: 0.9944 - val_loss: 0.0246 - val_acc: 0.9920\n",
      "Epoch 5/9\n",
      "20000/20000 [==============================] - 1s 25us/step - loss: 0.0179 - acc: 0.9947 - val_loss: 0.0243 - val_acc: 0.9916\n",
      "Epoch 6/9\n",
      "20000/20000 [==============================] - 1s 25us/step - loss: 0.0171 - acc: 0.9944 - val_loss: 0.0237 - val_acc: 0.9918\n",
      "Epoch 7/9\n",
      "20000/20000 [==============================] - 1s 25us/step - loss: 0.0159 - acc: 0.9949 - val_loss: 0.0231 - val_acc: 0.9924\n",
      "Epoch 8/9\n",
      "20000/20000 [==============================] - 1s 25us/step - loss: 0.0153 - acc: 0.9953 - val_loss: 0.0229 - val_acc: 0.9924\n",
      "Epoch 9/9\n"
     ]
    },
    {
     "name": "stdout",
     "output_type": "stream",
     "text": [
      "20000/20000 [==============================] - 1s 25us/step - loss: 0.0146 - acc: 0.9955 - val_loss: 0.0229 - val_acc: 0.9924\n",
      "12500/12500 [==============================] - 0s 26us/step\n",
      "The prediction result has been wrote to:  predict_drop_rate_0.5.csv\n",
      "Train on 20000 samples, validate on 5000 samples\n",
      "Epoch 1/9\n",
      "20000/20000 [==============================] - 1s 39us/step - loss: 0.1352 - acc: 0.9816 - val_loss: 0.0474 - val_acc: 0.9912\n",
      "Epoch 2/9\n",
      "20000/20000 [==============================] - 1s 25us/step - loss: 0.0335 - acc: 0.9928 - val_loss: 0.0299 - val_acc: 0.9924\n",
      "Epoch 3/9\n",
      "20000/20000 [==============================] - 1s 25us/step - loss: 0.0229 - acc: 0.9940 - val_loss: 0.0262 - val_acc: 0.9926\n",
      "Epoch 4/9\n",
      "20000/20000 [==============================] - 1s 25us/step - loss: 0.0198 - acc: 0.9943 - val_loss: 0.0247 - val_acc: 0.9922\n",
      "Epoch 5/9\n",
      "20000/20000 [==============================] - 1s 25us/step - loss: 0.0178 - acc: 0.9943 - val_loss: 0.0244 - val_acc: 0.9926\n",
      "Epoch 6/9\n",
      "20000/20000 [==============================] - 1s 25us/step - loss: 0.0163 - acc: 0.9950 - val_loss: 0.0236 - val_acc: 0.9922\n",
      "Epoch 7/9\n",
      "20000/20000 [==============================] - 1s 25us/step - loss: 0.0157 - acc: 0.9952 - val_loss: 0.0235 - val_acc: 0.9926\n",
      "Epoch 8/9\n",
      "20000/20000 [==============================] - 1s 25us/step - loss: 0.0154 - acc: 0.9953 - val_loss: 0.0232 - val_acc: 0.9928\n",
      "Epoch 9/9\n",
      "20000/20000 [==============================] - 1s 25us/step - loss: 0.0145 - acc: 0.9955 - val_loss: 0.0231 - val_acc: 0.9926\n",
      "12500/12500 [==============================] - 0s 27us/step\n",
      "The prediction result has been wrote to:  predict_drop_rate_0.6.csv\n",
      "Train on 20000 samples, validate on 5000 samples\n",
      "Epoch 1/9\n",
      "20000/20000 [==============================] - 1s 39us/step - loss: 0.1351 - acc: 0.9792 - val_loss: 0.0463 - val_acc: 0.9908\n",
      "Epoch 2/9\n",
      "20000/20000 [==============================] - 0s 25us/step - loss: 0.0331 - acc: 0.9929 - val_loss: 0.0294 - val_acc: 0.9922\n",
      "Epoch 3/9\n",
      "20000/20000 [==============================] - 0s 25us/step - loss: 0.0231 - acc: 0.9940 - val_loss: 0.0257 - val_acc: 0.9922\n",
      "Epoch 4/9\n",
      "20000/20000 [==============================] - 0s 25us/step - loss: 0.0195 - acc: 0.9942 - val_loss: 0.0249 - val_acc: 0.9926\n",
      "Epoch 5/9\n",
      "20000/20000 [==============================] - 0s 25us/step - loss: 0.0181 - acc: 0.9944 - val_loss: 0.0238 - val_acc: 0.9924\n",
      "Epoch 6/9\n",
      "20000/20000 [==============================] - 0s 25us/step - loss: 0.0163 - acc: 0.9953 - val_loss: 0.0234 - val_acc: 0.9924\n",
      "Epoch 7/9\n",
      "20000/20000 [==============================] - 0s 25us/step - loss: 0.0160 - acc: 0.9951 - val_loss: 0.0235 - val_acc: 0.9930\n",
      "Epoch 8/9\n",
      "20000/20000 [==============================] - 0s 25us/step - loss: 0.0153 - acc: 0.9953 - val_loss: 0.0230 - val_acc: 0.9928\n",
      "Epoch 9/9\n",
      "20000/20000 [==============================] - 0s 25us/step - loss: 0.0148 - acc: 0.9954 - val_loss: 0.0230 - val_acc: 0.9920\n",
      "12500/12500 [==============================] - 0s 27us/step\n",
      "The prediction result has been wrote to:  predict_drop_rate_0.7.csv\n",
      "Train on 20000 samples, validate on 5000 samples\n",
      "Epoch 1/9\n",
      "20000/20000 [==============================] - 1s 41us/step - loss: 0.1411 - acc: 0.9782 - val_loss: 0.0482 - val_acc: 0.9906\n",
      "Epoch 2/9\n",
      "20000/20000 [==============================] - 1s 25us/step - loss: 0.0337 - acc: 0.9931 - val_loss: 0.0299 - val_acc: 0.9916\n",
      "Epoch 3/9\n",
      "20000/20000 [==============================] - 0s 25us/step - loss: 0.0232 - acc: 0.9938 - val_loss: 0.0266 - val_acc: 0.9922\n",
      "Epoch 4/9\n",
      "20000/20000 [==============================] - 0s 25us/step - loss: 0.0199 - acc: 0.9940 - val_loss: 0.0247 - val_acc: 0.9918\n",
      "Epoch 5/9\n",
      "20000/20000 [==============================] - 0s 25us/step - loss: 0.0182 - acc: 0.9944 - val_loss: 0.0242 - val_acc: 0.9920\n",
      "Epoch 6/9\n",
      "20000/20000 [==============================] - 0s 25us/step - loss: 0.0171 - acc: 0.9949 - val_loss: 0.0237 - val_acc: 0.9920\n",
      "Epoch 7/9\n",
      "20000/20000 [==============================] - 0s 25us/step - loss: 0.0157 - acc: 0.9949 - val_loss: 0.0234 - val_acc: 0.9924\n",
      "Epoch 8/9\n",
      "20000/20000 [==============================] - 0s 25us/step - loss: 0.0158 - acc: 0.9954 - val_loss: 0.0232 - val_acc: 0.9928\n",
      "Epoch 9/9\n",
      "20000/20000 [==============================] - 0s 25us/step - loss: 0.0148 - acc: 0.9954 - val_loss: 0.0230 - val_acc: 0.9926\n",
      "12500/12500 [==============================] - 0s 28us/step\n",
      "The prediction result has been wrote to:  predict_drop_rate_0.8.csv\n",
      "Train on 20000 samples, validate on 5000 samples\n",
      "Epoch 1/9\n",
      "20000/20000 [==============================] - 1s 42us/step - loss: 0.1351 - acc: 0.9814 - val_loss: 0.0481 - val_acc: 0.9904\n",
      "Epoch 2/9\n",
      "20000/20000 [==============================] - 1s 25us/step - loss: 0.0334 - acc: 0.9926 - val_loss: 0.0301 - val_acc: 0.9918\n",
      "Epoch 3/9\n",
      "20000/20000 [==============================] - 1s 25us/step - loss: 0.0229 - acc: 0.9938 - val_loss: 0.0265 - val_acc: 0.9920\n",
      "Epoch 4/9\n",
      "20000/20000 [==============================] - 1s 26us/step - loss: 0.0197 - acc: 0.9940 - val_loss: 0.0249 - val_acc: 0.9922\n",
      "Epoch 5/9\n",
      "20000/20000 [==============================] - 1s 25us/step - loss: 0.0178 - acc: 0.9944 - val_loss: 0.0241 - val_acc: 0.9924\n",
      "Epoch 6/9\n",
      "20000/20000 [==============================] - 1s 25us/step - loss: 0.0165 - acc: 0.9947 - val_loss: 0.0236 - val_acc: 0.9922\n",
      "Epoch 7/9\n",
      "20000/20000 [==============================] - 1s 25us/step - loss: 0.0162 - acc: 0.9952 - val_loss: 0.0233 - val_acc: 0.9922\n",
      "Epoch 8/9\n",
      "20000/20000 [==============================] - 1s 25us/step - loss: 0.0150 - acc: 0.9955 - val_loss: 0.0232 - val_acc: 0.9926\n",
      "Epoch 9/9\n",
      "20000/20000 [==============================] - 1s 26us/step - loss: 0.0147 - acc: 0.9956 - val_loss: 0.0231 - val_acc: 0.9924\n",
      "12500/12500 [==============================] - 0s 29us/step\n",
      "The prediction result has been wrote to:  predict_drop_rate_0.9.csv\n"
     ]
    }
   ],
   "source": [
    "for i in range(10):\n",
    "    drop_rate = round(0.1 * i, 2)\n",
    "    model = getModel(drop_rate=drop_rate)\n",
    "    model.fit(\n",
    "        x=X_train,\n",
    "        y=y_train,\n",
    "        batch_size=128,\n",
    "        epochs=9,\n",
    "        validation_data=(X_val, y_val))\n",
    "    predict_func(model, 'predict' + '_drop_rate_' + str(drop_rate) + '.csv')\n",
    "    \n",
    "print('Done!')"
   ]
  },
  {
   "cell_type": "markdown",
   "metadata": {},
   "source": [
    "结论：drop rate选择0.9"
   ]
  },
  {
   "cell_type": "markdown",
   "metadata": {},
   "source": [
    "## 最终的训练和预测"
   ]
  },
  {
   "cell_type": "code",
   "execution_count": 58,
   "metadata": {},
   "outputs": [
    {
     "name": "stdout",
     "output_type": "stream",
     "text": [
      "12500/12500 [==============================] - 1s 82us/step\n",
      "The prediction result has been wrote to predict.csv\n"
     ]
    }
   ],
   "source": [
    "model = getModel(drop_rate=0.9)\n",
    "    model.fit(\n",
    "        x=X_train,\n",
    "        y=y_train,\n",
    "        batch_size=128,\n",
    "        epochs=9,\n",
    "        validation_data=(X_val, y_val))\n",
    "    predict_func(model, 'predict.csv')"
   ]
  }
 ],
 "metadata": {
  "kernelspec": {
   "display_name": "Python [conda env:tensorflow_p36]",
   "language": "python",
   "name": "conda-env-tensorflow_p36-py"
  },
  "language_info": {
   "codemirror_mode": {
    "name": "ipython",
    "version": 3
   },
   "file_extension": ".py",
   "mimetype": "text/x-python",
   "name": "python",
   "nbconvert_exporter": "python",
   "pygments_lexer": "ipython3",
   "version": "3.6.4"
  }
 },
 "nbformat": 4,
 "nbformat_minor": 2
}
