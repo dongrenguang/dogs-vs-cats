{
 "cells": [
  {
   "cell_type": "markdown",
   "metadata": {
    "collapsed": true
   },
   "source": [
    "## 数据预处理"
   ]
  },
  {
   "cell_type": "code",
   "execution_count": 1,
   "metadata": {},
   "outputs": [
    {
     "name": "stderr",
     "output_type": "stream",
     "text": [
      "Using TensorFlow backend.\n"
     ]
    }
   ],
   "source": [
    "import os\n",
    "import cv2\n",
    "import h5py\n",
    "import numpy as np\n",
    "import pandas as pd\n",
    "from keras.applications import Xception, xception\n",
    "from keras.models import Model, Sequential\n",
    "from keras.layers import Dropout, Dense, Input, Lambda, Flatten, Conv2D, MaxPooling2D\n",
    "from sklearn.model_selection import train_test_split\n",
    "from keras.optimizers import SGD\n",
    "from tqdm import tqdm"
   ]
  },
  {
   "cell_type": "code",
   "execution_count": 2,
   "metadata": {},
   "outputs": [
    {
     "name": "stderr",
     "output_type": "stream",
     "text": [
      "100%|██████████| 30/30 [00:00<00:00, 186.86it/s]\n",
      "100%|██████████| 10/10 [00:00<00:00, 232.79it/s]\n",
      "100%|██████████| 15/15 [00:00<00:00, 198.65it/s]\n"
     ]
    },
    {
     "name": "stdout",
     "output_type": "stream",
     "text": [
      "Read extra train image failed: dataset/images-Oxford-IIIT2/Egyptian_Mau_167.jpg\n",
      "Read extra train image failed: dataset/images-Oxford-IIIT2/Abyssinian_100.mat\n",
      "Read extra train image failed: dataset/images-Oxford-IIIT2/Abyssinian_101.mat\n",
      "Training data size: 37\n",
      "Label size: 37\n",
      "Testing data size: 15\n"
     ]
    }
   ],
   "source": [
    "data_path_train = './dataset-mini-30-15/train'\n",
    "data_path_train_extra = 'dataset/images-Oxford-IIIT2'\n",
    "data_path_test = './dataset-mini-30-15/test'\n",
    "image_names_train = os.listdir(data_path_train)\n",
    "image_names_train_extra = os.listdir(data_path_train_extra)\n",
    "image_names_test = os.listdir(data_path_test)\n",
    "input_shape = (224, 224, 3)\n",
    "labels = []\n",
    "trains = []\n",
    "tests = []\n",
    "\n",
    "\n",
    "# 处理标准的训练数据\n",
    "for i in tqdm(range(len(image_names_train))):\n",
    "    image_name = image_names_train[i]\n",
    "    image_path = os.path.join(data_path_train, image_name)\n",
    "    image = cv2.imread(image_path)\n",
    "    if image is None:\n",
    "        print('Read train image failed:', image_path)\n",
    "        continue\n",
    "    image = cv2.resize(image, (input_shape[0], input_shape[1]))\n",
    "    image = image / 255\n",
    "    trains.append(image[:, :, ::-1])\n",
    "    # cat: 0, dog: 1\n",
    "    category = 1 if 'dog' in image_name else 0\n",
    "    labels.append(category)\n",
    "\n",
    "    \n",
    "# 猫的种类\n",
    "cat_types = ['Abyssinian', 'Bengal', 'Birman', 'Bombay', 'British_Shorthair', 'Egyptian_Mau', 'Maine_Coon', 'Persian',\n",
    "             'Ragdoll', 'Russian_Blue', 'Siamese', 'Sphynx']\n",
    "# 处理扩展的训练数据\n",
    "for i in tqdm(range(len(image_names_train_extra))):\n",
    "    image_name = image_names_train_extra[i]\n",
    "    image_path = os.path.join(data_path_train_extra, image_name)\n",
    "    image = cv2.imread(image_path)\n",
    "    if image is None:\n",
    "        print('Read extra train image failed:', image_path)\n",
    "        continue\n",
    "    image = cv2.resize(image, (input_shape[0], input_shape[1]))\n",
    "    image = image / 255\n",
    "    index = len(image_names_train) + i\n",
    "    trains.append(image[:, :, ::-1])\n",
    "    \n",
    "    # 获取动物的种类（dog or cat）\n",
    "    spt = image_names_train_extra[i].split('_')\n",
    "    spt.pop()\n",
    "    tp = '_'.join(spt)\n",
    "    category = 0 if tp in cat_types else 1\n",
    "    labels.append(category)\n",
    "    \n",
    "\n",
    "# 处理标准的测试数据\n",
    "for i in tqdm(range(len(image_names_test))):\n",
    "    image_name = image_names_test[i]\n",
    "    image_path = os.path.join(data_path_test, image_name)\n",
    "    image = cv2.imread(image_path)\n",
    "    if image is None:\n",
    "        print('Read test image failed:', image_path)\n",
    "        continue\n",
    "    image = cv2.resize(image, (input_shape[0], input_shape[1]))\n",
    "    image = image / 255\n",
    "    tests.append(image[:, :, ::-1])\n",
    "    \n",
    "    \n",
    "trains = np.array(trains)\n",
    "labels = np.array(labels)\n",
    "tests = np.array(tests)\n",
    "\n",
    "print('Training data size: %d' % len(trains))\n",
    "print('Label size: %d' % len(labels))\n",
    "print('Testing data size: %d' % len(tests))"
   ]
  },
  {
   "cell_type": "markdown",
   "metadata": {},
   "source": [
    "## 构建模型"
   ]
  },
  {
   "cell_type": "code",
   "execution_count": 3,
   "metadata": {},
   "outputs": [
    {
     "name": "stdout",
     "output_type": "stream",
     "text": [
      "Model ready!\n"
     ]
    }
   ],
   "source": [
    "model = Sequential()\n",
    "model.add(Conv2D(64, (3, 3), activation='relu', input_shape=input_shape))\n",
    "model.add(Conv2D(64, (3, 3), activation='relu'))\n",
    "model.add(MaxPooling2D(pool_size=(2, 2)))\n",
    "model.add(Dropout(0.25))\n",
    "\n",
    "model.add(Conv2D(128, (3, 3), activation='relu'))\n",
    "model.add(Conv2D(128, (3, 3), activation='relu'))\n",
    "model.add(MaxPooling2D(pool_size=(2, 2)))\n",
    "model.add(Dropout(0.25))\n",
    "\n",
    "model.add(Conv2D(256, (3, 3), activation='relu'))\n",
    "model.add(Conv2D(256, (3, 3), activation='relu'))\n",
    "model.add(Conv2D(256, (3, 3), activation='relu'))\n",
    "model.add(MaxPooling2D(pool_size=(2, 2)))\n",
    "model.add(Dropout(0.25))\n",
    "\n",
    "model.add(Conv2D(512, (3, 3), activation='relu'))\n",
    "model.add(Conv2D(512, (3, 3), activation='relu'))\n",
    "model.add(Conv2D(512, (3, 3), activation='relu'))\n",
    "model.add(MaxPooling2D(pool_size=(2, 2)))\n",
    "model.add(Dropout(0.25))\n",
    "\n",
    "model.add(Conv2D(512, (3, 3), activation='relu'))\n",
    "model.add(Conv2D(512, (3, 3), activation='relu'))\n",
    "model.add(Conv2D(512, (3, 3), activation='relu'))\n",
    "model.add(MaxPooling2D(pool_size=(2, 2)))\n",
    "model.add(Dropout(0.25))\n",
    "\n",
    "model.add(Flatten())\n",
    "model.add(Dense(1024, activation='relu'))\n",
    "model.add(Dropout(0.5))\n",
    "model.add(Dense(1, activation='sigmoid'))\n",
    "\n",
    "sgd = SGD(lr=0.01, decay=1e-6, momentum=0.9, nesterov=True)\n",
    "model.compile(loss='binary_crossentropy', optimizer=sgd, metrics=['accuracy'])\n",
    "\n",
    "print('Model ready!')"
   ]
  },
  {
   "cell_type": "markdown",
   "metadata": {},
   "source": [
    "## 训练"
   ]
  },
  {
   "cell_type": "code",
   "execution_count": 4,
   "metadata": {},
   "outputs": [
    {
     "name": "stdout",
     "output_type": "stream",
     "text": [
      "Train on 29 samples, validate on 8 samples\n",
      "Epoch 1/10\n",
      "29/29 [==============================] - 39s 1s/step - loss: 0.6935 - acc: 0.4138 - val_loss: 0.6932 - val_acc: 0.3750\n",
      "Epoch 2/10\n",
      "29/29 [==============================] - 40s 1s/step - loss: 0.6939 - acc: 0.3448 - val_loss: 0.6933 - val_acc: 0.3750\n",
      "Epoch 3/10\n",
      "29/29 [==============================] - 38s 1s/step - loss: 0.6932 - acc: 0.4828 - val_loss: 0.6935 - val_acc: 0.3750\n",
      "Epoch 4/10\n",
      "29/29 [==============================] - 68s 2s/step - loss: 0.6937 - acc: 0.4483 - val_loss: 0.6937 - val_acc: 0.3750\n",
      "Epoch 5/10\n",
      "29/29 [==============================] - 40s 1s/step - loss: 0.6934 - acc: 0.4483 - val_loss: 0.6939 - val_acc: 0.3750\n",
      "Epoch 6/10\n",
      "29/29 [==============================] - 40s 1s/step - loss: 0.6924 - acc: 0.6207 - val_loss: 0.6941 - val_acc: 0.3750\n",
      "Epoch 7/10\n",
      "29/29 [==============================] - 43s 1s/step - loss: 0.6935 - acc: 0.4828 - val_loss: 0.6943 - val_acc: 0.3750\n",
      "Epoch 8/10\n",
      "29/29 [==============================] - 41s 1s/step - loss: 0.6923 - acc: 0.5517 - val_loss: 0.6946 - val_acc: 0.3750\n",
      "Epoch 9/10\n",
      "29/29 [==============================] - 36s 1s/step - loss: 0.6928 - acc: 0.5172 - val_loss: 0.6949 - val_acc: 0.3750\n",
      "Epoch 10/10\n",
      "29/29 [==============================] - 34s 1s/step - loss: 0.6937 - acc: 0.5172 - val_loss: 0.6951 - val_acc: 0.3750\n"
     ]
    },
    {
     "data": {
      "text/plain": [
       "<keras.callbacks.History at 0x122e152e8>"
      ]
     },
     "execution_count": 4,
     "metadata": {},
     "output_type": "execute_result"
    }
   ],
   "source": [
    "X_train, X_val, y_train, y_val = train_test_split(trains, labels, shuffle=True, test_size=0.2, random_state=2018)\n",
    "\n",
    "model.fit(x=X_train, y=y_train, batch_size=32, epochs=10, validation_data=(X_val, y_val))"
   ]
  },
  {
   "cell_type": "markdown",
   "metadata": {},
   "source": [
    "## 测试"
   ]
  },
  {
   "cell_type": "code",
   "execution_count": 6,
   "metadata": {},
   "outputs": [
    {
     "name": "stdout",
     "output_type": "stream",
     "text": [
      "15/15 [==============================] - 6s 372ms/step\n",
      "The prediction result has been wrote to predict.csv\n"
     ]
    }
   ],
   "source": [
    "y_pred = model.predict(tests, verbose=1)\n",
    "y_pred = y_pred.clip(min=0.005, max=0.995)\n",
    "\n",
    "df = pd.read_csv(\"sample_submission.csv\")\n",
    "\n",
    "for i in range(len(image_names_test)):\n",
    "    image_name = image_names_test[i]\n",
    "    index = int(str.split(image_name, '.')[0]) - 1\n",
    "    df.iat[index, 1] = y_pred[i]\n",
    "\n",
    "df.to_csv('predict.csv', index=None)\n",
    "print('The prediction result has been wrote to predict.csv')"
   ]
  }
 ],
 "metadata": {
  "kernelspec": {
   "display_name": "Python 3",
   "language": "python",
   "name": "python3"
  },
  "language_info": {
   "codemirror_mode": {
    "name": "ipython",
    "version": 3
   },
   "file_extension": ".py",
   "mimetype": "text/x-python",
   "name": "python",
   "nbconvert_exporter": "python",
   "pygments_lexer": "ipython3",
   "version": "3.6.5"
  }
 },
 "nbformat": 4,
 "nbformat_minor": 2
}
